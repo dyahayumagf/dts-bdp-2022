{
 "cells": [
  {
   "cell_type": "markdown",
   "id": "01d8893c",
   "metadata": {},
   "source": [
    "### List and List Processing in Python\n",
    "\n",
    "List adalah struktur data pada python yang mampu menyimpan lebih dari satu data."
   ]
  },
  {
   "cell_type": "markdown",
   "id": "11798dc8",
   "metadata": {},
   "source": [
    "### Beberapa Tipe List"
   ]
  },
  {
   "cell_type": "code",
   "execution_count": 1,
   "id": "b3a0a691",
   "metadata": {},
   "outputs": [
    {
     "name": "stdout",
     "output_type": "stream",
     "text": [
      "[1, 3, 2, 5, 7]\n"
     ]
    }
   ],
   "source": [
    "# List Integer\n",
    "\n",
    "lst = [1, 3, 2, 5, 7]\n",
    "\n",
    "print(lst)"
   ]
  },
  {
   "cell_type": "code",
   "execution_count": 2,
   "id": "f5e11169",
   "metadata": {
    "scrolled": true
   },
   "outputs": [
    {
     "name": "stdout",
     "output_type": "stream",
     "text": [
      "['nadia', 'desty', 'nia', 'syifa', 'fita']\n"
     ]
    }
   ],
   "source": [
    "# List String\n",
    "\n",
    "lst1 = [\"nadia\", \"desty\", \"nia\", \"syifa\", \"fita\"]\n",
    "\n",
    "print(lst1)"
   ]
  },
  {
   "cell_type": "code",
   "execution_count": 3,
   "id": "b1b2c123",
   "metadata": {},
   "outputs": [
    {
     "name": "stdout",
     "output_type": "stream",
     "text": [
      "[3.5, 5.6, 6.7, 9.4, 2.7]\n"
     ]
    }
   ],
   "source": [
    "# List Float\n",
    "\n",
    "lst2 = [3.5, 5.6, 6.7, 9.4, 2.7]\n",
    "\n",
    "print(lst2)"
   ]
  },
  {
   "cell_type": "code",
   "execution_count": 4,
   "id": "93f44dc9",
   "metadata": {},
   "outputs": [
    {
     "name": "stdout",
     "output_type": "stream",
     "text": [
      "['house', [8, 4, 6], ['a', 'b', 'c'], 7]\n"
     ]
    }
   ],
   "source": [
    "# NESTED LIST\n",
    "\n",
    "lst3 = [\"house\", [8, 4, 6], ['a','b','c'], 7]\n",
    "\n",
    "print(lst3)"
   ]
  },
  {
   "cell_type": "markdown",
   "id": "3ab3818e",
   "metadata": {},
   "source": [
    "### Indeks dan Negatif Indeks"
   ]
  },
  {
   "cell_type": "code",
   "execution_count": 5,
   "id": "2a3f17f2",
   "metadata": {},
   "outputs": [
    {
     "name": "stdout",
     "output_type": "stream",
     "text": [
      "n\n"
     ]
    }
   ],
   "source": [
    "# Indexing in lists\n",
    "\n",
    "hrf = ['p','y','t','h','o','n']\n",
    "\n",
    "print(hrf[5])"
   ]
  },
  {
   "cell_type": "code",
   "execution_count": 6,
   "id": "22e72d3e",
   "metadata": {},
   "outputs": [
    {
     "name": "stdout",
     "output_type": "stream",
     "text": [
      "o\n"
     ]
    }
   ],
   "source": [
    "# Negative indexing in lists\n",
    "\n",
    "huruf = ['p','y','t','h','o','n']\n",
    "\n",
    "print(huruf[-2])"
   ]
  },
  {
   "cell_type": "markdown",
   "id": "39a41b8b",
   "metadata": {},
   "source": [
    "### Slicing List"
   ]
  },
  {
   "cell_type": "code",
   "execution_count": 7,
   "id": "aeeecfe2",
   "metadata": {
    "scrolled": true
   },
   "outputs": [
    {
     "name": "stdout",
     "output_type": "stream",
     "text": [
      "['r', 'o']\n",
      "[]\n",
      "['a', 'm', 'm', 'i']\n",
      "['p', 'r', 'o', 'g', 'r', 'a', 'm', 'm', 'i', 'n', 'g']\n"
     ]
    }
   ],
   "source": [
    "# Slicing List in Python\n",
    "\n",
    "\n",
    "name = ['p','r','o','g','r','a','m','m','i','n','g']\n",
    "\n",
    "print(name[1:3])\n",
    "print(name[-1:10])\n",
    "print(name[5:-2])\n",
    "print(name[:])"
   ]
  },
  {
   "cell_type": "markdown",
   "id": "2454bfac",
   "metadata": {},
   "source": [
    "### List Methods"
   ]
  },
  {
   "cell_type": "markdown",
   "id": "612422ba",
   "metadata": {},
   "source": [
    "#### Append, Insert, Extend"
   ]
  },
  {
   "cell_type": "code",
   "execution_count": 8,
   "id": "3e4f036a",
   "metadata": {},
   "outputs": [
    {
     "name": "stdout",
     "output_type": "stream",
     "text": [
      "['anggur', 'semangka', 'jeruk', 'manggis']\n"
     ]
    }
   ],
   "source": [
    "# Append (menambahkan elemen ke akhir list)\n",
    "\n",
    "buah = ['anggur','semangka','jeruk']\n",
    "\n",
    "buah.append('manggis')\n",
    "print(buah)"
   ]
  },
  {
   "cell_type": "code",
   "execution_count": 9,
   "id": "2d9534bb",
   "metadata": {},
   "outputs": [
    {
     "name": "stdout",
     "output_type": "stream",
     "text": [
      "['kucing', 'musang', 'tikus', 'gajah']\n"
     ]
    }
   ],
   "source": [
    "# Insert (menyisipkan item pada indeks yang ditentukan)\n",
    "\n",
    "hewan = ['kucing','tikus','gajah']\n",
    "\n",
    "hewan.insert(1,'musang')\n",
    "print(hewan)"
   ]
  },
  {
   "cell_type": "code",
   "execution_count": 10,
   "id": "60c97202",
   "metadata": {},
   "outputs": [
    {
     "name": "stdout",
     "output_type": "stream",
     "text": [
      "['html', 'python', 'java', 2, 4, 6, 8, 3]\n"
     ]
    }
   ],
   "source": [
    "# Extend (menambahkan semua elemen list ke list lain)\n",
    "\n",
    "mix = ['html','python','java']\n",
    "number = [2,4,6,8,3]\n",
    "\n",
    "mix.extend(number)\n",
    "print(mix)"
   ]
  },
  {
   "cell_type": "markdown",
   "id": "94d920d3",
   "metadata": {},
   "source": [
    "#### Remove dan Pop"
   ]
  },
  {
   "cell_type": "code",
   "execution_count": 12,
   "id": "1ef89734",
   "metadata": {},
   "outputs": [
    {
     "name": "stdout",
     "output_type": "stream",
     "text": [
      "Updated List: [2, 5, 7, 9, 11]\n"
     ]
    }
   ],
   "source": [
    "# Remove (menghapus item dari list)\n",
    "\n",
    "bil_prima = [2, 3, 5, 7, 9, 11]\n",
    "\n",
    "bil_prima.remove(3)\n",
    "print('Updated List:', bil_prima)"
   ]
  },
  {
   "cell_type": "code",
   "execution_count": 13,
   "id": "4886ea0b",
   "metadata": {},
   "outputs": [
    {
     "name": "stdout",
     "output_type": "stream",
     "text": [
      "Update Flowers List: ['melati', 'mawar', 'anggrek', 'tulip']\n"
     ]
    }
   ],
   "source": [
    "bunga = ['melati','mawar','anggrek','tulip','matahari']\n",
    "\n",
    "bunga.remove('matahari')\n",
    "print('Update Flowers List:', bunga)"
   ]
  },
  {
   "cell_type": "code",
   "execution_count": 14,
   "id": "23f88b24",
   "metadata": {},
   "outputs": [
    {
     "name": "stdout",
     "output_type": "stream",
     "text": [
      "Updated List: [2, 3, 5, 9, 11]\n"
     ]
    }
   ],
   "source": [
    "# Pop (mengembalikan dan menghapus elemen pada indeks yang diberikan)\n",
    "\n",
    "bil_prima = [2, 3, 5, 7, 9, 11]\n",
    "\n",
    "bil_prima.pop(3)\n",
    "print('Updated List:', bil_prima)"
   ]
  },
  {
   "cell_type": "code",
   "execution_count": 15,
   "id": "960086e6",
   "metadata": {},
   "outputs": [
    {
     "name": "stdout",
     "output_type": "stream",
     "text": [
      "Update Flowers List: ['melati', 'anggrek', 'tulip', 'matahari']\n"
     ]
    }
   ],
   "source": [
    "bunga = ['melati','mawar','anggrek','tulip','matahari']\n",
    "\n",
    "bunga.pop(1)\n",
    "print('Update Flowers List:', bunga)"
   ]
  },
  {
   "cell_type": "code",
   "execution_count": 16,
   "id": "08ec6ba1",
   "metadata": {},
   "outputs": [
    {
     "name": "stdout",
     "output_type": "stream",
     "text": [
      "Return Value: Python\n",
      "Updated List: ['C', 'PHP', 'Java', 'R']\n"
     ]
    }
   ],
   "source": [
    "# mengembalikan dan menghapus elemen pada indeks yang diberikan\n",
    "\n",
    "bahasa = ['C','PHP','Java','Python','R']\n",
    "\n",
    "return_bahasa = bahasa.pop(3)\n",
    "\n",
    "print('Return Value:', return_bahasa)\n",
    "print('Updated List:', bahasa)"
   ]
  },
  {
   "cell_type": "code",
   "execution_count": 17,
   "id": "dc7edeed",
   "metadata": {},
   "outputs": [
    {
     "name": "stdout",
     "output_type": "stream",
     "text": [
      "[2, 4, 7, 9, 8, 3, 6, 10, 12, 11, 1]\n"
     ]
    }
   ],
   "source": [
    "# perintah del untuk menghapus sebuah elemen dari list\n",
    "\n",
    "bulat = [2, 4, 5, 7, 9, 8, 3, 6, 10, 12, 11, 1]\n",
    "\n",
    "del bulat[2]\n",
    "print(bulat)"
   ]
  },
  {
   "cell_type": "markdown",
   "id": "782a39a5",
   "metadata": {},
   "source": [
    "#### Index dan Count"
   ]
  },
  {
   "cell_type": "code",
   "execution_count": 18,
   "id": "19871e55",
   "metadata": {},
   "outputs": [
    {
     "name": "stdout",
     "output_type": "stream",
     "text": [
      "2\n"
     ]
    }
   ],
   "source": [
    "# Index (mengetahui indeks dari elemen yang diinginkan)\n",
    "\n",
    "profesi = ['pilot','guru','polisi','dokter','atlet']\n",
    "\n",
    "print(profesi.index('polisi'))"
   ]
  },
  {
   "cell_type": "code",
   "execution_count": 20,
   "id": "3686945b",
   "metadata": {},
   "outputs": [
    {
     "name": "stdout",
     "output_type": "stream",
     "text": [
      "Count of 12: 2\n"
     ]
    }
   ],
   "source": [
    "# Count (mengembalikan hitungan jumlah item didalam list)\n",
    "\n",
    "angka = [12, 15, 20, 12, 25, 30, 20, 33, 12, 15, 25, 15, 12, 33]\n",
    "\n",
    "# check the count of 12\n",
    "count = angka.count(20)\n",
    "\n",
    "print('Count of 12:', count)"
   ]
  },
  {
   "cell_type": "markdown",
   "id": "0b2017ac",
   "metadata": {},
   "source": [
    "#### Sort dan Reverse"
   ]
  },
  {
   "cell_type": "code",
   "execution_count": 21,
   "id": "531f8fdf",
   "metadata": {},
   "outputs": [
    {
     "name": "stdout",
     "output_type": "stream",
     "text": [
      "[1, 5, 9, 11, 13, 15, 21, 23, 33, 45]\n"
     ]
    }
   ],
   "source": [
    "# Sort (mengurutkan item dalam list dengan urutan menaik)\n",
    "\n",
    "ganjil = [13, 15, 23, 5, 1, 11, 9, 33, 21, 45]\n",
    "\n",
    "ganjil.sort()\n",
    "print(ganjil)"
   ]
  },
  {
   "cell_type": "code",
   "execution_count": 22,
   "id": "7556c6c7",
   "metadata": {},
   "outputs": [
    {
     "name": "stdout",
     "output_type": "stream",
     "text": [
      "Original List: [2, 8, 4, 6, 12]\n",
      "Updated List: [12, 6, 4, 8, 2]\n"
     ]
    }
   ],
   "source": [
    "# Reverse (membalikkan urutan item dalam list)\n",
    "\n",
    "genap = [2, 8, 4, 6, 12]\n",
    "print('Original List:', genap)\n",
    "\n",
    "genap.reverse()\n",
    "print('Updated List:', genap)"
   ]
  },
  {
   "cell_type": "code",
   "execution_count": 23,
   "id": "b0ff50d7",
   "metadata": {},
   "outputs": [
    {
     "name": "stdout",
     "output_type": "stream",
     "text": [
      "Original List: ['Windows', 'macOS', 'Linux', 'Android']\n",
      "Updated List: ['Android', 'Linux', 'macOS', 'Windows']\n"
     ]
    }
   ],
   "source": [
    "systems = ['Windows', 'macOS', 'Linux', 'Android']\n",
    "print('Original List:', systems)\n",
    "\n",
    "systems.reverse()\n",
    "\n",
    "print('Updated List:', systems)"
   ]
  },
  {
   "cell_type": "markdown",
   "id": "f25e049b",
   "metadata": {},
   "source": [
    "#### Clear, Copy dan Len"
   ]
  },
  {
   "cell_type": "code",
   "execution_count": 24,
   "id": "ef4eae84",
   "metadata": {},
   "outputs": [
    {
     "name": "stdout",
     "output_type": "stream",
     "text": [
      "List after clear: []\n"
     ]
    }
   ],
   "source": [
    "# Clear (menghapus semua item dari list)\n",
    "\n",
    "bulat = [2, 4, 5, 7, 9, 8, 3, 6, 10, 12, 11, 1]\n",
    "\n",
    "bulat.clear()\n",
    "print('List after clear:', bulat)"
   ]
  },
  {
   "cell_type": "code",
   "execution_count": 26,
   "id": "fe6344ce",
   "metadata": {},
   "outputs": [
    {
     "name": "stdout",
     "output_type": "stream",
     "text": [
      "Old Output: [2, 4, 5, 7, 9, 8]\n",
      "New Output: [2, 4, 5, 7, 9, 8, 3]\n"
     ]
    }
   ],
   "source": [
    "# Copy (mengembalikan salinan list yang dangkal)\n",
    "\n",
    "bulat = [2, 4, 5, 7, 9, 8]\n",
    "\n",
    "new_bulat = bulat.copy()\n",
    "\n",
    "new_bulat.append(3)\n",
    "\n",
    "print('Old Output:', bulat)\n",
    "print('New Output:', new_bulat)"
   ]
  },
  {
   "cell_type": "code",
   "execution_count": 28,
   "id": "3213569a",
   "metadata": {},
   "outputs": [
    {
     "name": "stdout",
     "output_type": "stream",
     "text": [
      "12\n"
     ]
    }
   ],
   "source": [
    "# Len (mengembalikan panjang list atau ukuran list)\n",
    "\n",
    "bulat = [2, 4, 5, 7, 9, 8, 3, 6, 10, 12, 11, 1]\n",
    "\n",
    "print(len(bulat))"
   ]
  },
  {
   "cell_type": "markdown",
   "id": "246ab86b",
   "metadata": {},
   "source": [
    "#### Sum, Max dan Min"
   ]
  },
  {
   "cell_type": "code",
   "execution_count": 30,
   "id": "a228fdf8",
   "metadata": {},
   "outputs": [
    {
     "name": "stdout",
     "output_type": "stream",
     "text": [
      "25\n",
      "3.125\n"
     ]
    }
   ],
   "source": [
    "# Sum (men jumlahkan angka-angka dalam list)\n",
    "\n",
    "numbers = [1, 2, 3, 4, 5, 1, 4, 5]\n",
    " \n",
    "Sum = sum(numbers)\n",
    "print(Sum)\n",
    " \n",
    "average= Sum/len(numbers)\n",
    "print (average)"
   ]
  },
  {
   "cell_type": "code",
   "execution_count": 31,
   "id": "34ccc976",
   "metadata": {},
   "outputs": [
    {
     "name": "stdout",
     "output_type": "stream",
     "text": [
      "The Maximum is: 2.5\n"
     ]
    }
   ],
   "source": [
    "# Max (mengembalikan list elemen maksimum)\n",
    "\n",
    "float = [1.2, 1.3, 0.1, 2.5]\n",
    "\n",
    "max_value = max(float)\n",
    "print('The Maximum is:', max_value)"
   ]
  },
  {
   "cell_type": "code",
   "execution_count": 32,
   "id": "f2f2a351",
   "metadata": {},
   "outputs": [
    {
     "name": "stdout",
     "output_type": "stream",
     "text": [
      "The Minimum is: 0.1\n"
     ]
    }
   ],
   "source": [
    "# Min (mengembalikan list elemen minimum)\n",
    "\n",
    "float = [1.2, 1.3, 0.1, 2.5]\n",
    "\n",
    "min_value = min(float)\n",
    "print('The Minimum is:', min_value)"
   ]
  },
  {
   "cell_type": "markdown",
   "id": "79aa0d52",
   "metadata": {},
   "source": [
    "#### List Comprehensions\n",
    "\n",
    "membuat sebuah list baru dari elemen-elemen list yang sudah ada."
   ]
  },
  {
   "cell_type": "code",
   "execution_count": 33,
   "id": "d6c42079",
   "metadata": {},
   "outputs": [
    {
     "name": "stdout",
     "output_type": "stream",
     "text": [
      "['b', 'a', 'n', 'a', 'n', 'a']\n"
     ]
    }
   ],
   "source": [
    "# list_variable = [x for x in iterable]\n",
    "\n",
    "banana_letters = [letter for letter in 'banana']\n",
    "print(banana_letters)"
   ]
  },
  {
   "cell_type": "code",
   "execution_count": 34,
   "id": "b55877d9",
   "metadata": {},
   "outputs": [
    {
     "name": "stdout",
     "output_type": "stream",
     "text": [
      "['g', 'r', 'a', 'p', 'e']\n"
     ]
    }
   ],
   "source": [
    "grape_letters = []\n",
    "\n",
    "for letter in 'grape':\n",
    "    grape_letters.append(letter)\n",
    "\n",
    "print(grape_letters)"
   ]
  },
  {
   "cell_type": "code",
   "execution_count": 35,
   "id": "f7da84b8",
   "metadata": {},
   "outputs": [
    {
     "name": "stdout",
     "output_type": "stream",
     "text": [
      "[0, 1, 2, 3, 4]\n"
     ]
    }
   ],
   "source": [
    "# number_list = [x for x in range(n)]\n",
    "\n",
    "number_list = [x for x in range(5)]\n",
    "print(number_list)"
   ]
  },
  {
   "cell_type": "code",
   "execution_count": 36,
   "id": "4521c3f9",
   "metadata": {},
   "outputs": [
    {
     "name": "stdout",
     "output_type": "stream",
     "text": [
      "[0, 4, 16, 36, 64]\n"
     ]
    }
   ],
   "source": [
    "# menambahkan conditional statment\n",
    "\n",
    "number_list = [x ** 2 for x in range(10) if x % 2 == 0]\n",
    "print(number_list)"
   ]
  },
  {
   "cell_type": "code",
   "execution_count": 38,
   "id": "4df94cf7",
   "metadata": {},
   "outputs": [
    {
     "name": "stdout",
     "output_type": "stream",
     "text": [
      "[0, 30, 60, 90]\n"
     ]
    }
   ],
   "source": [
    "# menambahkan nested if statements\n",
    "\n",
    "number_list = [x for x in range(100) if x % 3 == 0 if x % 5 == 0 if x % 10 == 0]\n",
    "print(number_list)"
   ]
  },
  {
   "cell_type": "markdown",
   "id": "4eff0298",
   "metadata": {},
   "source": [
    "#### Modifying Lists with Operators"
   ]
  },
  {
   "cell_type": "code",
   "execution_count": 39,
   "id": "c03f67a0",
   "metadata": {},
   "outputs": [
    {
     "name": "stdout",
     "output_type": "stream",
     "text": [
      "List Hewan: ['hiu', 'gurita', 'ayam', 'sapi', 'semut']\n"
     ]
    }
   ],
   "source": [
    "# Menggabungkan List\n",
    "\n",
    "hewan_laut = ['hiu', 'gurita']\n",
    "hewan_darat = ['ayam', 'sapi', 'semut']\n",
    "\n",
    "print('List Hewan:', hewan_laut + hewan_darat)"
   ]
  },
  {
   "cell_type": "code",
   "execution_count": 40,
   "id": "305682f2",
   "metadata": {
    "scrolled": true
   },
   "outputs": [
    {
     "name": "stdout",
     "output_type": "stream",
     "text": [
      "['hiu', 'gurita', 'hiu', 'gurita', 'hiu', 'gurita']\n",
      "['ayam', 'sapi', 'semut', 'ayam', 'sapi', 'semut']\n"
     ]
    }
   ],
   "source": [
    "# Multiply List (membuat salinan seluruh item didalam list)\n",
    "\n",
    "print(hewan_laut * 3)\n",
    "print(hewan_darat * 2)"
   ]
  },
  {
   "cell_type": "markdown",
   "id": "ea23e3e5",
   "metadata": {},
   "source": [
    "#### List Membership Test\n",
    "\n",
    "kita bisa mengecek apakah item ada didalam list atau tidak menggunakan 'not' dan 'not in'"
   ]
  },
  {
   "cell_type": "code",
   "execution_count": 43,
   "id": "c0705aa6",
   "metadata": {},
   "outputs": [
    {
     "name": "stdout",
     "output_type": "stream",
     "text": [
      "True\n",
      "False\n",
      "True\n"
     ]
    }
   ],
   "source": [
    "# List Membership Test\n",
    "\n",
    "kata = ['p', 'r', 'o', 'b', 'l', 'e', 'm','s','o','l','v','i','n','g']\n",
    "\n",
    "# Output: True\n",
    "print('p' in kata)\n",
    "\n",
    "Output: False\n",
    "print('a' in kata)\n",
    "\n",
    "Output: True\n",
    "print('c' not in kata)"
   ]
  },
  {
   "cell_type": "markdown",
   "id": "7e841c44",
   "metadata": {},
   "source": [
    "#### Iterating Through a List (perulangan)"
   ]
  },
  {
   "cell_type": "code",
   "execution_count": 44,
   "id": "edf79a7b",
   "metadata": {
    "scrolled": true
   },
   "outputs": [
    {
     "name": "stdout",
     "output_type": "stream",
     "text": [
      "I like apple\n",
      "I like banana\n",
      "I like grape\n"
     ]
    }
   ],
   "source": [
    "# for variable_name in [a,b,c]\n",
    "\n",
    "for fruit in ['apple','banana','grape']:\n",
    "    print(\"I like\",fruit)"
   ]
  },
  {
   "cell_type": "markdown",
   "id": "230b489f",
   "metadata": {},
   "source": [
    "#### List Multidimensi\n",
    "\n",
    "menggunakan perulangan bersarang (perulangan yang berada atau terletak di dalam perulangan yang lain)"
   ]
  },
  {
   "cell_type": "code",
   "execution_count": 49,
   "id": "2a735ae3",
   "metadata": {},
   "outputs": [
    {
     "name": "stdout",
     "output_type": "stream",
     "text": [
      "Kopi\n",
      "Susu\n",
      "Teh\n",
      "Jus Apel\n",
      "Jus Melon\n",
      "Jus Jeruk\n",
      "Es Kopi\n",
      "Es Campur\n",
      "Es Teler\n"
     ]
    }
   ],
   "source": [
    "list_minuman = [\n",
    "    [\"Kopi\", \"Susu\", \"Teh\"],\n",
    "    [\"Jus Apel\", \"Jus Melon\", \"Jus Jeruk\"],\n",
    "    [\"Es Kopi\", \"Es Campur\", \"Es Teler\"]\n",
    "]\n",
    "\n",
    "for menu in list_minuman:\n",
    "    for minuman in menu:\n",
    "        print(minuman)"
   ]
  }
 ],
 "metadata": {
  "kernelspec": {
   "display_name": "Python 3 (ipykernel)",
   "language": "python",
   "name": "python3"
  },
  "language_info": {
   "codemirror_mode": {
    "name": "ipython",
    "version": 3
   },
   "file_extension": ".py",
   "mimetype": "text/x-python",
   "name": "python",
   "nbconvert_exporter": "python",
   "pygments_lexer": "ipython3",
   "version": "3.9.12"
  }
 },
 "nbformat": 4,
 "nbformat_minor": 5
}
